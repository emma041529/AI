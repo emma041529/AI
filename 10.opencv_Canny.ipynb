!pip install opencv-contrib-python -U
from google.colab.patches import cv2_imshow
from matplotlib import pyplot as plt
import cv2
import numpy as np
print(cv2.__version__)
o=cv2.imread("lena.bmp",cv2.IMREAD_GRAYSCALE)
r1=cv2.Canny(o,128,200)
r2=cv2.Canny(o,32,128)
cv2_imshow(o)
cv2_imshow(r1)
cv2_imshow(r2)
